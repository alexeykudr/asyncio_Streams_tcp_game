{
 "cells": [
  {
   "cell_type": "code",
   "execution_count": 8,
   "id": "2e839336",
   "metadata": {},
   "outputs": [
    {
     "name": "stdout",
     "output_type": "stream",
     "text": [
      "a\n",
      "c\n",
      "h\n",
      "e\n"
     ]
    }
   ],
   "source": [
    "questions = {'a', 'b', 'c', 'd', 'e', 'f', 'g', 'h', 'j', 'k'}\n",
    "\n",
    "def return_by_1():\n",
    "    for i in questions:\n",
    "        yield i\n",
    "        \n",
    "\n",
    "\n",
    "gen = return_by_1()\n",
    "print(next(gen))\n",
    "print(next(gen))\n",
    "print(next(gen))\n",
    "print(next(gen))\n"
   ]
  },
  {
   "cell_type": "code",
   "execution_count": 10,
   "id": "873f4319",
   "metadata": {},
   "outputs": [
    {
     "name": "stdout",
     "output_type": "stream",
     "text": [
      "['f', 'e', 'd']\n"
     ]
    },
    {
     "name": "stderr",
     "output_type": "stream",
     "text": [
      "/var/folders/2n/4ygnf0yj5q7__dbhtjlx5lfm0000gn/T/ipykernel_12630/3467414279.py:4: DeprecationWarning: Sampling from a set deprecated\n",
      "since Python 3.9 and will be removed in a subsequent version.\n",
      "  q = random.sample(questions, 3)\n"
     ]
    }
   ],
   "source": [
    "import random\n",
    "\n",
    "questions = {'a', 'b', 'c', 'd', 'e', 'f', 'g', 'h', 'j', 'k'}\n",
    "q = random.sample(questions, 3)\n",
    "\n",
    "print(q)"
   ]
  },
  {
   "cell_type": "code",
   "execution_count": null,
   "id": "c748dbd6",
   "metadata": {},
   "outputs": [],
   "source": [
    "import time\n",
    "start_time = time.time()\n",
    "\n",
    "\n",
    "\n",
    "t = time.time()-start_time\n",
    "\n",
    "\n",
    "while round(t) != 5:\n",
    "    k = 2+2"
   ]
  },
  {
   "cell_type": "code",
   "execution_count": null,
   "id": "b435d4a7",
   "metadata": {},
   "outputs": [],
   "source": []
  }
 ],
 "metadata": {
  "kernelspec": {
   "display_name": "Python 3 (ipykernel)",
   "language": "python",
   "name": "python3"
  },
  "language_info": {
   "codemirror_mode": {
    "name": "ipython",
    "version": 3
   },
   "file_extension": ".py",
   "mimetype": "text/x-python",
   "name": "python",
   "nbconvert_exporter": "python",
   "pygments_lexer": "ipython3",
   "version": "3.9.7"
  }
 },
 "nbformat": 4,
 "nbformat_minor": 5
}
